{
 "cells": [
  {
   "cell_type": "markdown",
   "id": "0038b5b5",
   "metadata": {},
   "source": [
    "# Week 5 — Hybrid Retrieval Evaluation\n",
    "\n",
    "This notebook reports Recall@k for vector-only, keyword-only, and hybrid (RRF) search on ≥10 queries."
   ]
  },
  {
   "cell_type": "code",
   "execution_count": 3,
   "id": "0b3ccd82",
   "metadata": {},
   "outputs": [],
   "source": [
    "!pip install --quiet \\\n",
    "    numpy \\\n",
    "    matplotlib \\\n",
    "    scikit-learn \\\n",
    "    fastapi \\\n",
    "    uvicorn \\\n",
    "    faiss-cpu \\\n",
    "    rank-bm25 \\\n",
    "    nbformat \\\n",
    "    sentence-transformers \\\n",
    "    sqlite-utils"
   ]
  },
  {
   "cell_type": "code",
   "execution_count": 4,
   "id": "a27037fb",
   "metadata": {},
   "outputs": [],
   "source": [
    "import sqlite3\n",
    "import numpy as np\n",
    "import matplotlib.pyplot as plt\n",
    "\n",
    "from hybrid_search import hybrid_search, vector_search, keyword_search\n",
    "from hybrid_index import DEFAULT_DB, connect\n",
    "\n",
    "def title_of(doc_id:int):\n",
    "    conn = connect(DEFAULT_DB); cur = conn.cursor()\n",
    "    cur.execute(\"SELECT title FROM documents WHERE doc_id=?\", (doc_id,))\n",
    "    row = cur.fetchone(); conn.close()\n",
    "    return row[0] if row else \"?\"\n"
   ]
  },
  {
   "cell_type": "markdown",
   "id": "bb58b6d2",
   "metadata": {},
   "source": [
    "## Corpus sanity check"
   ]
  },
  {
   "cell_type": "code",
   "execution_count": 5,
   "id": "1a6a9fb6",
   "metadata": {},
   "outputs": [
    {
     "data": {
      "text/plain": [
       "(16,\n",
       " [(1, 2003, 'About compression of vocabulary in computer oriented languages'),\n",
       "  (2, 2003, 'Glottochronology and problems of protolanguage reconstruction'),\n",
       "  (3, 2003, 'Glottochronologic Retrognostic of Language System'),\n",
       "  (4, 2008, 'The emerging field of language dynamics'),\n",
       "  (5, 2011, 'Entropy of Telugu')])"
      ]
     },
     "execution_count": 5,
     "metadata": {},
     "output_type": "execute_result"
    }
   ],
   "source": [
    "conn = sqlite3.connect(DEFAULT_DB)\n",
    "docs = conn.execute(\"SELECT doc_id, year, title FROM documents ORDER BY doc_id\").fetchall()\n",
    "conn.close()\n",
    "len(docs), docs[:5]"
   ]
  },
  {
   "cell_type": "markdown",
   "id": "3d108c1b",
   "metadata": {},
   "source": [
    "## Gold labels (query → relevant doc_id list)\n",
    "\n",
    "These IDs match the current index."
   ]
  },
  {
   "cell_type": "code",
   "execution_count": 6,
   "id": "e39bf2e7",
   "metadata": {},
   "outputs": [
    {
     "data": {
      "text/plain": [
       "14"
      ]
     },
     "execution_count": 6,
     "metadata": {},
     "output_type": "execute_result"
    }
   ],
   "source": [
    "gold = {\n",
    "    \"compression of vocabulary in computer languages\": [1],\n",
    "    \"glottochronology protolanguage reconstruction\": [2, 3],\n",
    "    \"language dynamics field\": [4],\n",
    "    \"entropy of telugu\": [5],\n",
    "    \"semantic parsing framework cornell spf\": [6],\n",
    "    \"deep learning for nlp notes\": [7],\n",
    "    \"meta learning for machine translation metamT\": [8],\n",
    "    \"spoken italian treebank kiparla\": [9],\n",
    "    \"cluster automata\": [10],\n",
    "    \"conclusive remark on language modeling\": [11],\n",
    "    \"sense of humour in computers\": [12],\n",
    "    \"ukrainian writing system properties\": [14],\n",
    "    \"richard berry paradox formal semantics\": [15],\n",
    "    \"standardization of lexical information for nlp\": [16],\n",
    "}\n",
    "len(gold)"
   ]
  },
  {
   "cell_type": "markdown",
   "id": "f3e32192",
   "metadata": {},
   "source": [
    "## Recall@k computation & run experiments"
   ]
  },
  {
   "cell_type": "code",
   "execution_count": 7,
   "id": "773e3a9c",
   "metadata": {},
   "outputs": [
    {
     "data": {
      "text/plain": [
       "(1.0, 1.0, 1.0)"
      ]
     },
     "execution_count": 7,
     "metadata": {},
     "output_type": "execute_result"
    }
   ],
   "source": [
    "def recall_at_k(run_hits, gold, k:int=3):\n",
    "    total = len(gold)\n",
    "    hits = 0\n",
    "    for q, rel in gold.items():\n",
    "        pred = run_hits.get(q, [])[:k]\n",
    "        if any(d in rel for d in pred):\n",
    "            hits += 1\n",
    "    return hits / max(1, total)\n",
    "\n",
    "def evaluate(k:int=3, fusion:str=\"rrf\"):\n",
    "    vec_run, key_run, hyb_run = {}, {}, {}\n",
    "    for q in gold:\n",
    "        vec = vector_search(q, top_k=k)\n",
    "        key = keyword_search(q, top_k=k)\n",
    "        hyb = hybrid_search(q, k=k, fusion=fusion)\n",
    "        vec_run[q] = [h.doc_id for h in vec]\n",
    "        key_run[q] = [h.doc_id for h in key]\n",
    "        hyb_run[q] = [h[\"doc_id\"] for h in hyb[\"hybrid_hits\"]]\n",
    "    return vec_run, key_run, hyb_run\n",
    "\n",
    "k = 3\n",
    "vec_run, key_run, hyb_run = evaluate(k=k, fusion=\"rrf\")\n",
    "rec_vec = recall_at_k(vec_run, gold, k)\n",
    "rec_key = recall_at_k(key_run, gold, k)\n",
    "rec_hyb = recall_at_k(hyb_run, gold, k)\n",
    "rec_vec, rec_key, rec_hyb"
   ]
  },
  {
   "cell_type": "markdown",
   "id": "3de08558",
   "metadata": {},
   "source": [
    "## Plot Recall@3"
   ]
  },
  {
   "cell_type": "code",
   "execution_count": 8,
   "id": "8d8df0b6",
   "metadata": {},
   "outputs": [
    {
     "data": {
      "image/png": "[encoded data removed]",
      "text/plain": [
       "<Figure size 500x300 with 1 Axes>"
      ]
     },
     "metadata": {},
     "output_type": "display_data"
    }
   ],
   "source": [
    "labels = [\"Vector\", \"Keyword\", \"Hybrid (RRF)\"]\n",
    "vals = [rec_vec, rec_key, rec_hyb]\n",
    "plt.figure(figsize=(5,3))\n",
    "plt.bar(labels, vals)\n",
    "plt.ylim(0, 1.05)\n",
    "plt.ylabel(\"Recall@3\")\n",
    "plt.title(\"Hybrid vs Baselines\")\n",
    "plt.show()"
   ]
  },
  {
   "cell_type": "markdown",
   "id": "4e27d0da",
   "metadata": {},
   "source": [
    "## Example per-query hits (top-3)"
   ]
  },
  {
   "cell_type": "code",
   "execution_count": 9,
   "id": "7b33085b",
   "metadata": {},
   "outputs": [
    {
     "name": "stdout",
     "output_type": "stream",
     "text": [
      "\n",
      "=== compression of vocabulary in computer languages ===\n",
      "rel: [(1, 'About compression of vocabulary in computer oriented languages')]\n",
      "vec: [(1, 'About compression of vocabulary in computer oriented languages'), (1, 'About compression of vocabulary in computer oriented languages'), (1, 'About compression of vocabulary in computer oriented languages')]\n",
      "key: [(1, 'About compression of vocabulary in computer oriented languages'), (1, 'About compression of vocabulary in computer oriented languages')]\n",
      "hyb: [(1, 'About compression of vocabulary in computer oriented languages'), (1, 'About compression of vocabulary in computer oriented languages'), (1, 'About compression of vocabulary in computer oriented languages')]\n",
      "\n",
      "=== glottochronology protolanguage reconstruction ===\n",
      "rel: [(2, 'Glottochronology and problems of protolanguage reconstruction'), (3, 'Glottochronologic Retrognostic of Language System')]\n",
      "vec: [(3, 'Glottochronologic Retrognostic of Language System'), (4, 'The emerging field of language dynamics'), (4, 'The emerging field of language dynamics')]\n",
      "key: [(3, 'Glottochronologic Retrognostic of Language System')]\n",
      "hyb: [(3, 'Glottochronologic Retrognostic of Language System'), (4, 'The emerging field of language dynamics'), (4, 'The emerging field of language dynamics')]\n",
      "\n",
      "=== language dynamics field ===\n",
      "rel: [(4, 'The emerging field of language dynamics')]\n",
      "vec: [(4, 'The emerging field of language dynamics'), (4, 'The emerging field of language dynamics'), (4, 'The emerging field of language dynamics')]\n",
      "key: [(4, 'The emerging field of language dynamics'), (4, 'The emerging field of language dynamics'), (4, 'The emerging field of language dynamics')]\n",
      "hyb: [(4, 'The emerging field of language dynamics'), (4, 'The emerging field of language dynamics'), (4, 'The emerging field of language dynamics')]\n",
      "\n",
      "=== entropy of telugu ===\n",
      "rel: [(5, 'Entropy of Telugu')]\n",
      "vec: [(5, 'Entropy of Telugu'), (5, 'Entropy of Telugu'), (5, 'Entropy of Telugu')]\n",
      "key: [(5, 'Entropy of Telugu'), (5, 'Entropy of Telugu'), (5, 'Entropy of Telugu')]\n",
      "hyb: [(5, 'Entropy of Telugu'), (5, 'Entropy of Telugu'), (5, 'Entropy of Telugu')]\n",
      "\n",
      "=== semantic parsing framework cornell spf ===\n",
      "rel: [(6, 'Cornell SPF: Cornell Semantic Parsing Framework')]\n",
      "vec: [(6, 'Cornell SPF: Cornell Semantic Parsing Framework'), (6, 'Cornell SPF: Cornell Semantic Parsing Framework'), (6, 'Cornell SPF: Cornell Semantic Parsing Framework')]\n",
      "key: [(6, 'Cornell SPF: Cornell Semantic Parsing Framework'), (6, 'Cornell SPF: Cornell Semantic Parsing Framework'), (6, 'Cornell SPF: Cornell Semantic Parsing Framework')]\n",
      "hyb: [(6, 'Cornell SPF: Cornell Semantic Parsing Framework'), (6, 'Cornell SPF: Cornell Semantic Parsing Framework'), (6, 'Cornell SPF: Cornell Semantic Parsing Framework')]\n"
     ]
    }
   ],
   "source": [
    "for q in list(gold.keys())[:5]:\n",
    "    vec = vector_search(q, top_k=3)\n",
    "    key = keyword_search(q, top_k=3)\n",
    "    hyb = hybrid_search(q, k=3, fusion=\"rrf\")\n",
    "    print(\"\\n===\", q, \"===\")\n",
    "    print(\"rel:\", [(d, title_of(d)) for d in gold[q]])\n",
    "    print(\"vec:\", [(h.doc_id, title_of(h.doc_id)) for h in vec])\n",
    "    print(\"key:\", [(h.doc_id, title_of(h.doc_id)) for h in key])\n",
    "    print(\"hyb:\", [(h['doc_id'], title_of(h['doc_id'])) for h in hyb['hybrid_hits']])"
   ]
  }
 ],
 "metadata": {
  "kernelspec": {
   "display_name": "rag_env",
   "language": "python",
   "name": "python3"
  },
  "language_info": {
   "codemirror_mode": {
    "name": "ipython",
    "version": 3
   },
   "file_extension": ".py",
   "mimetype": "text/x-python",
   "name": "python",
   "nbconvert_exporter": "python",
   "pygments_lexer": "ipython3",
   "version": "3.11.7"
  }
 },
 "nbformat": 4,
 "nbformat_minor": 5
}
